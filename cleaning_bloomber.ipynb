{
 "cells": [
  {
   "cell_type": "code",
   "execution_count": 5,
   "metadata": {},
   "outputs": [],
   "source": [
    "import pandas as pd\n",
    "import os"
   ]
  },
  {
   "cell_type": "code",
   "execution_count": null,
   "metadata": {},
   "outputs": [
    {
     "name": "stdout",
     "output_type": "stream",
     "text": [
      "Processing file: Hardware. Data Networking Equipment Dashboard.csv\n",
      "File saved: C:\\Users\\JacopoBinati\\OneDrive - Venionaire Capital\\Desktop\\python codes\\multiples\\to be cleaned\\output\\Hardware. Data Networking Equipment Dashboard Panel.csv\n",
      "Processing file: Hardware. Global Display Components.csv\n",
      "File saved: C:\\Users\\JacopoBinati\\OneDrive - Venionaire Capital\\Desktop\\python codes\\multiples\\to be cleaned\\output\\Hardware. Global Display Components Panel.csv\n",
      "Processing file: Hardware. Global Display Panels Compeitive peers.csv\n",
      "File saved: C:\\Users\\JacopoBinati\\OneDrive - Venionaire Capital\\Desktop\\python codes\\multiples\\to be cleaned\\output\\Hardware. Global Display Panels Compeitive peers Panel.csv\n",
      "Processing file: Hardware. Global Displays (TV Manufacturers) Competitive Peers.csv\n",
      "File saved: C:\\Users\\JacopoBinati\\OneDrive - Venionaire Capital\\Desktop\\python codes\\multiples\\to be cleaned\\output\\Hardware. Global Displays (TV Manufacturers) Competitive Peers Panel.csv\n",
      "Processing file: Hardware. Global Electronics Touch Solutions Competitve Peers.csv\n",
      "File saved: C:\\Users\\JacopoBinati\\OneDrive - Venionaire Capital\\Desktop\\python codes\\multiples\\to be cleaned\\output\\Hardware. Global Electronics Touch Solutions Competitve Peers Panel.csv\n",
      "Processing file: Hardware. Global Household Appliances Competitve Peers.csv\n",
      "File saved: C:\\Users\\JacopoBinati\\OneDrive - Venionaire Capital\\Desktop\\python codes\\multiples\\to be cleaned\\output\\Hardware. Global Household Appliances Competitve Peers Panel.csv\n",
      "Processing file: Infrastructure software multiples.csv\n",
      "File saved: C:\\Users\\JacopoBinati\\OneDrive - Venionaire Capital\\Desktop\\python codes\\multiples\\to be cleaned\\output\\Infrastructure software multiples Panel.csv\n",
      "Processing file: Technology. Design, Mfg & Distribution.csv\n",
      "File saved: C:\\Users\\JacopoBinati\\OneDrive - Venionaire Capital\\Desktop\\python codes\\multiples\\to be cleaned\\output\\Technology. Design, Mfg & Distribution Panel.csv\n"
     ]
    }
   ],
   "source": [
    "def extract_sector_name_from_filename(file_path):\n",
    "    base_name = os.path.splitext(os.path.basename(file_path))[0]\n",
    "    if base_name.endswith(\" Multiples\"):\n",
    "        sector_name = base_name.replace(\" Multiples\", \"\")\n",
    "    else:\n",
    "        sector_name = base_name\n",
    "    return sector_name\n",
    "\n",
    "def transform_to_panel(file_path):\n",
    "    sector_name = extract_sector_name_from_filename(file_path)\n",
    "    df = pd.read_csv(file_path, sep=';')\n",
    "    year_columns = [col for col in df.columns if col.isdigit()]\n",
    "    melted_df = pd.melt(\n",
    "        df,\n",
    "        id_vars=['Ticker', 'Field Mnemonic', 'Data State'],\n",
    "        value_vars=year_columns,\n",
    "        var_name='Year',\n",
    "        value_name='Value'\n",
    "    )\n",
    "    melted_df['Sector'] = sector_name\n",
    "    melted_df['Year'] = melted_df['Year'].astype(int)\n",
    "    melted_df = melted_df.dropna(subset=['Value'])\n",
    "    \n",
    "    pivot_df = melted_df.pivot_table(\n",
    "        index=['Ticker', 'Data State', 'Year', 'Sector'],\n",
    "        columns='Field Mnemonic',\n",
    "        values='Value',\n",
    "        aggfunc='first'\n",
    "    ).reset_index()\n",
    "    \n",
    "    required_columns = ['BEST_CUR_EV_TO_EBITDA', 'EV_TO_T12M_EBITDA', 'EV_TO_T12M_SALES']\n",
    "    for col in required_columns:\n",
    "        if col not in pivot_df.columns:\n",
    "            pivot_df[col] = None  # Add missing columns with NaN values\n",
    "\n",
    "    final_columns = ['Ticker', 'Data State', 'Year', 'Sector', \n",
    "                     'BEST_CUR_EV_TO_EBITDA', 'EV_TO_T12M_EBITDA', 'EV_TO_T12M_SALES']\n",
    "    pivot_df = pivot_df[final_columns]\n",
    "    \n",
    "    return pivot_df\n",
    "\n",
    "def process_files_in_directory(input_dir, output_dir):\n",
    "    for file_name in os.listdir(input_dir):\n",
    "        if file_name.endswith('.csv'):\n",
    "            file_path = os.path.join(input_dir, file_name)\n",
    "            print(f\"Processing file: {file_name}\")\n",
    "            try:\n",
    "                panel_data = transform_to_panel(file_path)\n",
    "                output_file_name = f\"{os.path.splitext(file_name)[0]} Panel.csv\"\n",
    "                output_path = os.path.join(output_dir, output_file_name)\n",
    "                panel_data.to_csv(output_path, index=False)\n",
    "                print(f\"File saved: {output_path}\")\n",
    "            except Exception as e:\n",
    "                print(f\"Error processing file {file_name}: {e}\")\n",
    "\n",
    "input_directory = r\"C:\\Users\\JacopoBinati\\OneDrive - Venionaire Capital\\Desktop\\python codes\\multiples\\to be cleaned\"\n",
    "output_directory = os.path.join(input_directory, \"output\")\n",
    "\n",
    "os.makedirs(output_directory, exist_ok=True)\n",
    "\n",
    "process_files_in_directory(input_directory, output_directory)\n"
   ]
  }
 ],
 "metadata": {
  "kernelspec": {
   "display_name": "base",
   "language": "python",
   "name": "python3"
  },
  "language_info": {
   "codemirror_mode": {
    "name": "ipython",
    "version": 3
   },
   "file_extension": ".py",
   "mimetype": "text/x-python",
   "name": "python",
   "nbconvert_exporter": "python",
   "pygments_lexer": "ipython3",
   "version": "3.12.4"
  }
 },
 "nbformat": 4,
 "nbformat_minor": 2
}
